{
  "cells": [
    {
      "cell_type": "code",
      "execution_count": 1,
      "metadata": {
        "id": "V4Zj4bOjoYPm"
      },
      "outputs": [],
      "source": [
        "import pandas as pd\n",
        "import numpy as np"
      ]
    },
    {
      "cell_type": "code",
      "execution_count": 7,
      "metadata": {
        "colab": {
          "base_uri": "https://localhost:8080/"
        },
        "id": "zWvm44RJodfn",
        "outputId": "51beac64-f645-44db-db50-e58b7f264e27"
      },
      "outputs": [
        {
          "name": "stdout",
          "output_type": "stream",
          "text": [
            "(11321, 5)\n",
            "                                            sentence           term  from  \\\n",
            "0  This new version of Things has an entirely dif...    new version   6.0   \n",
            "1  All those contractors were blown away by how e...            NaN   NaN   \n",
            "2  I tell them what happens, and they say “so is ...            NaN   NaN   \n",
            "3  The ease of use, simplicity, and great functio...  functionality  40.0   \n",
            "4  I’m disappointed that even after a year they h...          money  95.0   \n",
            "\n",
            "      to sentiment  \n",
            "0   17.0  positive  \n",
            "1    NaN       NaN  \n",
            "2    NaN  negative  \n",
            "3   53.0  positive  \n",
            "4  100.0  negative  \n"
          ]
        }
      ],
      "source": [
        "df = pd.read_csv('AWARE_Comprehensive.csv')\n",
        "df_pyabsa = df[['sentence', 'term', 'from', 'to', 'sentiment']]\n",
        "print(df_pyabsa.shape)\n",
        "print(df_pyabsa.head(5))"
      ]
    },
    {
      "cell_type": "markdown",
      "metadata": {
        "id": "OW3khmvio0tF"
      },
      "source": [
        "### Format Data following PyABSA's requirements.\n",
        "\n",
        "Features to be used:\n",
        "1. sentence\n",
        "2. term\n",
        "3. from\n",
        "4. to\n",
        "5. sentiment\n",
        "\n",
        "\n",
        "Example: \\\n",
        "This \\$T\\$ of Things has an entirely different aesthetic from Things 2. \\\n",
        "new version\\\n",
        "Positive"
      ]
    },
    {
      "cell_type": "markdown",
      "metadata": {
        "id": "yACJvmwVunaK"
      },
      "source": [
        "### STEP1 remove rows that contains N/A value."
      ]
    },
    {
      "cell_type": "code",
      "execution_count": 13,
      "metadata": {
        "colab": {
          "base_uri": "https://localhost:8080/"
        },
        "id": "bGHICAnFo7d_",
        "outputId": "868d7f27-9b6f-4d0f-a2a7-b802a0a4dc3a"
      },
      "outputs": [
        {
          "name": "stdout",
          "output_type": "stream",
          "text": [
            "(6824, 5)\n",
            "                                            sentence           term  from  \\\n",
            "0  This new version of Things has an entirely dif...    new version   6.0   \n",
            "3  The ease of use, simplicity, and great functio...  functionality  40.0   \n",
            "4  I’m disappointed that even after a year they h...          money  95.0   \n",
            "5                 It’s tagging capability is unique.        tagging   6.0   \n",
            "6  This free version also works with the PC and m...   free version   6.0   \n",
            "\n",
            "      to sentiment  \n",
            "0   17.0  positive  \n",
            "3   53.0  positive  \n",
            "4  100.0  negative  \n",
            "5   13.0  positive  \n",
            "6   18.0  positive  \n"
          ]
        }
      ],
      "source": [
        "df_cleaned = df_pyabsa.dropna()\n",
        "print(df_cleaned.shape)\n",
        "print(df_cleaned.head(5))"
      ]
    },
    {
      "cell_type": "markdown",
      "metadata": {
        "id": "giFBXkRqsF8h"
      },
      "source": [
        "### STEP2 Create new txt file following the above format:\n",
        "1. Replace term with \\$T\\$ using the `from` and `to` indices.\n",
        "2. Add a new line containing the extracted term.\n",
        "3. Add a new line containing the corresponding sentiment."
      ]
    },
    {
      "cell_type": "code",
      "execution_count": 15,
      "metadata": {
        "colab": {
          "base_uri": "https://localhost:8080/"
        },
        "id": "9ByeKwMRvM_h",
        "outputId": "955727d3-2856-4880-c3e3-7e6859529f8c"
      },
      "outputs": [
        {
          "name": "stdout",
          "output_type": "stream",
          "text": [
            "File 'formatted_output.txt' created successfully.\n"
          ]
        }
      ],
      "source": [
        "with open('formatted_AWARE_comprehensive.txt', 'w', encoding='utf-8') as file:\n",
        "    for index, row in df_cleaned.iterrows():\n",
        "      sentence = row['sentence']\n",
        "      from_idx, to_idx = row['from'], row['to']\n",
        "      modified_sentence = sentence[:int(from_idx) - 1] + '$T$' + sentence[int(to_idx) - 1:]\n",
        "      sentiment = row['sentiment']\n",
        "      # Write the modified sentence, term, and sentiment to the file\n",
        "      file.write(modified_sentence + '\\n')\n",
        "      file.write(row['term'] + '\\n')\n",
        "      file.write(row['sentiment'].capitalize() + '\\n')  # Two newlines for separation\n",
        "\n",
        "print(\"File 'formatted_output.txt' created successfully.\")"
      ]
    },
    {
      "cell_type": "code",
      "execution_count": 1,
      "metadata": {},
      "outputs": [
        {
          "name": "stdout",
          "output_type": "stream",
          "text": [
            "Defaulting to user installation because normal site-packages is not writeable\n",
            "Requirement already satisfied: pyabsa in /Users/mac/Library/Python/3.9/lib/python/site-packages (2.4.1.post1)\n",
            "Requirement already satisfied: sentencepiece in /Users/mac/Library/Python/3.9/lib/python/site-packages (from pyabsa) (0.2.0)\n",
            "Requirement already satisfied: pytorch-warmup in /Users/mac/Library/Python/3.9/lib/python/site-packages (from pyabsa) (0.1.1)\n",
            "Requirement already satisfied: transformers>=4.18.0 in /Users/mac/Library/Python/3.9/lib/python/site-packages (from pyabsa) (4.39.3)\n",
            "Requirement already satisfied: boostaug>=2.3.5 in /Users/mac/Library/Python/3.9/lib/python/site-packages (from pyabsa) (2.3.5)\n",
            "Requirement already satisfied: seqeval in /Users/mac/Library/Python/3.9/lib/python/site-packages (from pyabsa) (1.2.2)\n",
            "Requirement already satisfied: typing-extensions in /Users/mac/Library/Python/3.9/lib/python/site-packages (from pyabsa) (4.10.0)\n",
            "Requirement already satisfied: autocuda>=0.16 in /Users/mac/Library/Python/3.9/lib/python/site-packages (from pyabsa) (0.16)\n",
            "Requirement already satisfied: tqdm in /Users/mac/Library/Python/3.9/lib/python/site-packages (from pyabsa) (4.66.2)\n",
            "Requirement already satisfied: gitpython in /Users/mac/Library/Python/3.9/lib/python/site-packages (from pyabsa) (3.1.43)\n",
            "Requirement already satisfied: termcolor in /Users/mac/Library/Python/3.9/lib/python/site-packages (from pyabsa) (2.4.0)\n",
            "Requirement already satisfied: update-checker in /Users/mac/Library/Python/3.9/lib/python/site-packages (from pyabsa) (0.18.0)\n",
            "Requirement already satisfied: metric-visualizer>=0.9.6 in /Users/mac/Library/Python/3.9/lib/python/site-packages (from pyabsa) (0.9.10.post1)\n",
            "Requirement already satisfied: findfile>=2.0.0 in /Users/mac/Library/Python/3.9/lib/python/site-packages (from pyabsa) (2.0.1)\n",
            "Requirement already satisfied: pandas in /Users/mac/Library/Python/3.9/lib/python/site-packages (from pyabsa) (2.2.1)\n",
            "Requirement already satisfied: spacy in /Users/mac/Library/Python/3.9/lib/python/site-packages (from pyabsa) (3.7.4)\n",
            "Requirement already satisfied: networkx in /Users/mac/Library/Python/3.9/lib/python/site-packages (from pyabsa) (3.2.1)\n",
            "Requirement already satisfied: protobuf<4.0.0 in /Users/mac/Library/Python/3.9/lib/python/site-packages (from pyabsa) (3.20.3)\n",
            "Requirement already satisfied: torch>=1.0.0 in /Users/mac/Library/Python/3.9/lib/python/site-packages (from pyabsa) (2.2.2)\n",
            "Requirement already satisfied: scipy<1.11.0 in /Users/mac/Library/Python/3.9/lib/python/site-packages (from metric-visualizer>=0.9.6->pyabsa) (1.10.1)\n",
            "Requirement already satisfied: openpyxl in /Users/mac/Library/Python/3.9/lib/python/site-packages (from metric-visualizer>=0.9.6->pyabsa) (3.1.2)\n",
            "Requirement already satisfied: matplotlib>=3.6.3 in /Users/mac/Library/Python/3.9/lib/python/site-packages (from metric-visualizer>=0.9.6->pyabsa) (3.8.3)\n",
            "Requirement already satisfied: numpy in /Users/mac/Library/Python/3.9/lib/python/site-packages (from metric-visualizer>=0.9.6->pyabsa) (1.26.4)\n",
            "Requirement already satisfied: xlsxwriter in /Users/mac/Library/Python/3.9/lib/python/site-packages (from metric-visualizer>=0.9.6->pyabsa) (3.2.0)\n",
            "Requirement already satisfied: tikzplotlib in /Users/mac/Library/Python/3.9/lib/python/site-packages (from metric-visualizer>=0.9.6->pyabsa) (0.10.1)\n",
            "Requirement already satisfied: tabulate in /Users/mac/Library/Python/3.9/lib/python/site-packages (from metric-visualizer>=0.9.6->pyabsa) (0.9.0)\n",
            "Requirement already satisfied: scikit-learn<1.3.0 in /Users/mac/Library/Python/3.9/lib/python/site-packages (from metric-visualizer>=0.9.6->pyabsa) (1.2.2)\n",
            "Requirement already satisfied: click in /Users/mac/Library/Python/3.9/lib/python/site-packages (from metric-visualizer>=0.9.6->pyabsa) (8.1.7)\n",
            "Requirement already satisfied: natsort in /Users/mac/Library/Python/3.9/lib/python/site-packages (from metric-visualizer>=0.9.6->pyabsa) (8.4.0)\n",
            "Requirement already satisfied: fonttools>=4.22.0 in /Users/mac/Library/Python/3.9/lib/python/site-packages (from matplotlib>=3.6.3->metric-visualizer>=0.9.6->pyabsa) (4.50.0)\n",
            "Requirement already satisfied: cycler>=0.10 in /Users/mac/Library/Python/3.9/lib/python/site-packages (from matplotlib>=3.6.3->metric-visualizer>=0.9.6->pyabsa) (0.12.1)\n",
            "Requirement already satisfied: packaging>=20.0 in /Users/mac/Library/Python/3.9/lib/python/site-packages (from matplotlib>=3.6.3->metric-visualizer>=0.9.6->pyabsa) (24.0)\n",
            "Requirement already satisfied: importlib-resources>=3.2.0 in /Users/mac/Library/Python/3.9/lib/python/site-packages (from matplotlib>=3.6.3->metric-visualizer>=0.9.6->pyabsa) (6.3.1)\n",
            "Requirement already satisfied: contourpy>=1.0.1 in /Users/mac/Library/Python/3.9/lib/python/site-packages (from matplotlib>=3.6.3->metric-visualizer>=0.9.6->pyabsa) (1.2.0)\n",
            "Requirement already satisfied: pyparsing>=2.3.1 in /Users/mac/Library/Python/3.9/lib/python/site-packages (from matplotlib>=3.6.3->metric-visualizer>=0.9.6->pyabsa) (3.1.2)\n",
            "Requirement already satisfied: kiwisolver>=1.3.1 in /Users/mac/Library/Python/3.9/lib/python/site-packages (from matplotlib>=3.6.3->metric-visualizer>=0.9.6->pyabsa) (1.4.5)\n",
            "Requirement already satisfied: python-dateutil>=2.7 in /Users/mac/Library/Python/3.9/lib/python/site-packages (from matplotlib>=3.6.3->metric-visualizer>=0.9.6->pyabsa) (2.9.0.post0)\n",
            "Requirement already satisfied: pillow>=8 in /Users/mac/Library/Python/3.9/lib/python/site-packages (from matplotlib>=3.6.3->metric-visualizer>=0.9.6->pyabsa) (10.2.0)\n",
            "Requirement already satisfied: zipp>=3.1.0 in /Users/mac/Library/Python/3.9/lib/python/site-packages (from importlib-resources>=3.2.0->matplotlib>=3.6.3->metric-visualizer>=0.9.6->pyabsa) (3.18.1)\n",
            "Requirement already satisfied: six>=1.5 in /Users/mac/Library/Python/3.9/lib/python/site-packages (from python-dateutil>=2.7->matplotlib>=3.6.3->metric-visualizer>=0.9.6->pyabsa) (1.16.0)\n",
            "Requirement already satisfied: joblib>=1.1.1 in /Users/mac/Library/Python/3.9/lib/python/site-packages (from scikit-learn<1.3.0->metric-visualizer>=0.9.6->pyabsa) (1.4.0)\n",
            "Requirement already satisfied: threadpoolctl>=2.0.0 in /Users/mac/Library/Python/3.9/lib/python/site-packages (from scikit-learn<1.3.0->metric-visualizer>=0.9.6->pyabsa) (3.3.0)\n",
            "Requirement already satisfied: fsspec in /Users/mac/Library/Python/3.9/lib/python/site-packages (from torch>=1.0.0->pyabsa) (2024.3.1)\n",
            "Requirement already satisfied: jinja2 in /Users/mac/Library/Python/3.9/lib/python/site-packages (from torch>=1.0.0->pyabsa) (3.1.3)\n",
            "Requirement already satisfied: sympy in /Users/mac/Library/Python/3.9/lib/python/site-packages (from torch>=1.0.0->pyabsa) (1.12)\n",
            "Requirement already satisfied: filelock in /Users/mac/Library/Python/3.9/lib/python/site-packages (from torch>=1.0.0->pyabsa) (3.13.4)\n",
            "Requirement already satisfied: requests in /Users/mac/Library/Python/3.9/lib/python/site-packages (from transformers>=4.18.0->pyabsa) (2.31.0)\n",
            "Requirement already satisfied: pyyaml>=5.1 in /Users/mac/Library/Python/3.9/lib/python/site-packages (from transformers>=4.18.0->pyabsa) (6.0.1)\n",
            "Requirement already satisfied: safetensors>=0.4.1 in /Users/mac/Library/Python/3.9/lib/python/site-packages (from transformers>=4.18.0->pyabsa) (0.4.3)\n",
            "Requirement already satisfied: tokenizers<0.19,>=0.14 in /Users/mac/Library/Python/3.9/lib/python/site-packages (from transformers>=4.18.0->pyabsa) (0.15.2)\n",
            "Requirement already satisfied: huggingface-hub<1.0,>=0.19.3 in /Users/mac/Library/Python/3.9/lib/python/site-packages (from transformers>=4.18.0->pyabsa) (0.22.2)\n",
            "Requirement already satisfied: regex!=2019.12.17 in /Users/mac/Library/Python/3.9/lib/python/site-packages (from transformers>=4.18.0->pyabsa) (2023.12.25)\n",
            "Requirement already satisfied: gitdb<5,>=4.0.1 in /Users/mac/Library/Python/3.9/lib/python/site-packages (from gitpython->pyabsa) (4.0.11)\n",
            "Requirement already satisfied: smmap<6,>=3.0.1 in /Users/mac/Library/Python/3.9/lib/python/site-packages (from gitdb<5,>=4.0.1->gitpython->pyabsa) (5.0.1)\n",
            "Requirement already satisfied: MarkupSafe>=2.0 in /Users/mac/Library/Python/3.9/lib/python/site-packages (from jinja2->torch>=1.0.0->pyabsa) (2.1.5)\n",
            "Requirement already satisfied: et-xmlfile in /Users/mac/Library/Python/3.9/lib/python/site-packages (from openpyxl->metric-visualizer>=0.9.6->pyabsa) (1.1.0)\n",
            "Requirement already satisfied: pytz>=2020.1 in /Users/mac/Library/Python/3.9/lib/python/site-packages (from pandas->pyabsa) (2024.1)\n",
            "Requirement already satisfied: tzdata>=2022.7 in /Users/mac/Library/Python/3.9/lib/python/site-packages (from pandas->pyabsa) (2024.1)\n",
            "Requirement already satisfied: charset-normalizer<4,>=2 in /Users/mac/Library/Python/3.9/lib/python/site-packages (from requests->transformers>=4.18.0->pyabsa) (3.3.2)\n",
            "Requirement already satisfied: idna<4,>=2.5 in /Users/mac/Library/Python/3.9/lib/python/site-packages (from requests->transformers>=4.18.0->pyabsa) (3.6)\n",
            "Requirement already satisfied: urllib3<3,>=1.21.1 in /Users/mac/Library/Python/3.9/lib/python/site-packages (from requests->transformers>=4.18.0->pyabsa) (2.2.1)\n",
            "Requirement already satisfied: certifi>=2017.4.17 in /Users/mac/Library/Python/3.9/lib/python/site-packages (from requests->transformers>=4.18.0->pyabsa) (2024.2.2)\n",
            "Requirement already satisfied: preshed<3.1.0,>=3.0.2 in /Users/mac/Library/Python/3.9/lib/python/site-packages (from spacy->pyabsa) (3.0.9)\n",
            "Requirement already satisfied: pydantic!=1.8,!=1.8.1,<3.0.0,>=1.7.4 in /Users/mac/Library/Python/3.9/lib/python/site-packages (from spacy->pyabsa) (2.6.4)\n",
            "Requirement already satisfied: wasabi<1.2.0,>=0.9.1 in /Users/mac/Library/Python/3.9/lib/python/site-packages (from spacy->pyabsa) (1.1.2)\n",
            "Requirement already satisfied: cymem<2.1.0,>=2.0.2 in /Users/mac/Library/Python/3.9/lib/python/site-packages (from spacy->pyabsa) (2.0.8)\n",
            "Requirement already satisfied: weasel<0.4.0,>=0.1.0 in /Users/mac/Library/Python/3.9/lib/python/site-packages (from spacy->pyabsa) (0.3.4)\n",
            "Requirement already satisfied: spacy-legacy<3.1.0,>=3.0.11 in /Users/mac/Library/Python/3.9/lib/python/site-packages (from spacy->pyabsa) (3.0.12)\n",
            "Requirement already satisfied: smart-open<7.0.0,>=5.2.1 in /Users/mac/Library/Python/3.9/lib/python/site-packages (from spacy->pyabsa) (6.4.0)\n",
            "Requirement already satisfied: setuptools in /Library/Developer/CommandLineTools/Library/Frameworks/Python3.framework/Versions/3.9/lib/python3.9/site-packages (from spacy->pyabsa) (58.0.4)\n",
            "Requirement already satisfied: langcodes<4.0.0,>=3.2.0 in /Users/mac/Library/Python/3.9/lib/python/site-packages (from spacy->pyabsa) (3.3.0)\n",
            "Requirement already satisfied: srsly<3.0.0,>=2.4.3 in /Users/mac/Library/Python/3.9/lib/python/site-packages (from spacy->pyabsa) (2.4.8)\n",
            "Requirement already satisfied: typer<0.10.0,>=0.3.0 in /Users/mac/Library/Python/3.9/lib/python/site-packages (from spacy->pyabsa) (0.9.4)\n",
            "Requirement already satisfied: thinc<8.3.0,>=8.2.2 in /Users/mac/Library/Python/3.9/lib/python/site-packages (from spacy->pyabsa) (8.2.3)\n",
            "Requirement already satisfied: spacy-loggers<2.0.0,>=1.0.0 in /Users/mac/Library/Python/3.9/lib/python/site-packages (from spacy->pyabsa) (1.0.5)\n",
            "Requirement already satisfied: murmurhash<1.1.0,>=0.28.0 in /Users/mac/Library/Python/3.9/lib/python/site-packages (from spacy->pyabsa) (1.0.10)\n",
            "Requirement already satisfied: catalogue<2.1.0,>=2.0.6 in /Users/mac/Library/Python/3.9/lib/python/site-packages (from spacy->pyabsa) (2.0.10)\n",
            "Requirement already satisfied: annotated-types>=0.4.0 in /Users/mac/Library/Python/3.9/lib/python/site-packages (from pydantic!=1.8,!=1.8.1,<3.0.0,>=1.7.4->spacy->pyabsa) (0.6.0)\n",
            "Requirement already satisfied: pydantic-core==2.16.3 in /Users/mac/Library/Python/3.9/lib/python/site-packages (from pydantic!=1.8,!=1.8.1,<3.0.0,>=1.7.4->spacy->pyabsa) (2.16.3)\n",
            "Requirement already satisfied: blis<0.8.0,>=0.7.8 in /Users/mac/Library/Python/3.9/lib/python/site-packages (from thinc<8.3.0,>=8.2.2->spacy->pyabsa) (0.7.11)\n",
            "Requirement already satisfied: confection<1.0.0,>=0.0.1 in /Users/mac/Library/Python/3.9/lib/python/site-packages (from thinc<8.3.0,>=8.2.2->spacy->pyabsa) (0.1.4)\n",
            "Requirement already satisfied: cloudpathlib<0.17.0,>=0.7.0 in /Users/mac/Library/Python/3.9/lib/python/site-packages (from weasel<0.4.0,>=0.1.0->spacy->pyabsa) (0.16.0)\n",
            "Requirement already satisfied: mpmath>=0.19 in /Users/mac/Library/Python/3.9/lib/python/site-packages (from sympy->torch>=1.0.0->pyabsa) (1.3.0)\n",
            "Requirement already satisfied: webcolors in /Users/mac/Library/Python/3.9/lib/python/site-packages (from tikzplotlib->metric-visualizer>=0.9.6->pyabsa) (1.13)\n",
            "\u001b[33mWARNING: You are using pip version 21.2.4; however, version 24.0 is available.\n",
            "You should consider upgrading via the '/Library/Developer/CommandLineTools/usr/bin/python3 -m pip install --upgrade pip' command.\u001b[0m\n"
          ]
        }
      ],
      "source": [
        "!pip3 install pyabsa"
      ]
    },
    {
      "cell_type": "code",
      "execution_count": 2,
      "metadata": {},
      "outputs": [
        {
          "name": "stderr",
          "output_type": "stream",
          "text": [
            "/Library/Developer/CommandLineTools/Library/Frameworks/Python3.framework/Versions/3.9/lib/python3.9/multiprocessing/pool.py:265: ResourceWarning: unclosed running multiprocessing pool <multiprocessing.pool.Pool state=RUN pool_size=1>\n",
            "  _warn(f\"unclosed running multiprocessing pool {self!r}\",\n",
            "ResourceWarning: Enable tracemalloc to get the object allocation traceback\n"
          ]
        }
      ],
      "source": [
        "from pyabsa import convert_apc_set_to_atepc_set\n",
        "\n",
        "convert_apc_set_to_atepc_set('a.txt')  # for custom datasets, absolute path recommended for this function"
      ]
    }
  ],
  "metadata": {
    "colab": {
      "provenance": []
    },
    "kernelspec": {
      "display_name": "Python 3",
      "name": "python3"
    },
    "language_info": {
      "codemirror_mode": {
        "name": "ipython",
        "version": 3
      },
      "file_extension": ".py",
      "mimetype": "text/x-python",
      "name": "python",
      "nbconvert_exporter": "python",
      "pygments_lexer": "ipython3",
      "version": "3.9.6"
    }
  },
  "nbformat": 4,
  "nbformat_minor": 0
}

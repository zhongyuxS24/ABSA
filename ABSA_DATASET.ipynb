{
  "nbformat": 4,
  "nbformat_minor": 0,
  "metadata": {
    "colab": {
      "provenance": []
    },
    "kernelspec": {
      "name": "python3",
      "display_name": "Python 3"
    },
    "language_info": {
      "name": "python"
    }
  },
  "cells": [
    {
      "cell_type": "code",
      "source": [
        "import pandas as pd\n",
        "import numpy as np"
      ],
      "metadata": {
        "id": "V4Zj4bOjoYPm"
      },
      "execution_count": 1,
      "outputs": []
    },
    {
      "cell_type": "code",
      "source": [
        "df = pd.read_csv('AWARE_Comprehensive.csv')\n",
        "df_pyabsa = df[['sentence', 'term', 'from', 'to', 'sentiment']]\n",
        "print(df_pyabsa.shape)\n",
        "print(df_pyabsa.head(5))"
      ],
      "metadata": {
        "colab": {
          "base_uri": "https://localhost:8080/"
        },
        "id": "zWvm44RJodfn",
        "outputId": "51beac64-f645-44db-db50-e58b7f264e27"
      },
      "execution_count": 7,
      "outputs": [
        {
          "output_type": "stream",
          "name": "stdout",
          "text": [
            "(11321, 5)\n",
            "                                            sentence           term  from  \\\n",
            "0  This new version of Things has an entirely dif...    new version   6.0   \n",
            "1  All those contractors were blown away by how e...            NaN   NaN   \n",
            "2  I tell them what happens, and they say “so is ...            NaN   NaN   \n",
            "3  The ease of use, simplicity, and great functio...  functionality  40.0   \n",
            "4  I’m disappointed that even after a year they h...          money  95.0   \n",
            "\n",
            "      to sentiment  \n",
            "0   17.0  positive  \n",
            "1    NaN       NaN  \n",
            "2    NaN  negative  \n",
            "3   53.0  positive  \n",
            "4  100.0  negative  \n"
          ]
        }
      ]
    },
    {
      "cell_type": "markdown",
      "source": [
        "### Format Data following PyABSA's requirements.\n",
        "\n",
        "Features to be used:\n",
        "1. sentence\n",
        "2. term\n",
        "3. from\n",
        "4. to\n",
        "5. sentiment\n",
        "\n",
        "\n",
        "Example: \\\n",
        "This \\$T\\$ of Things has an entirely different aesthetic from Things 2. \\\n",
        "new version\\\n",
        "Positive"
      ],
      "metadata": {
        "id": "OW3khmvio0tF"
      }
    },
    {
      "cell_type": "markdown",
      "source": [
        "### STEP1 remove rows that contains N/A value."
      ],
      "metadata": {
        "id": "yACJvmwVunaK"
      }
    },
    {
      "cell_type": "code",
      "source": [
        "df_cleaned = df_pyabsa.dropna()\n",
        "print(df_cleaned.shape)\n",
        "print(df_cleaned.head(5))"
      ],
      "metadata": {
        "colab": {
          "base_uri": "https://localhost:8080/"
        },
        "id": "bGHICAnFo7d_",
        "outputId": "868d7f27-9b6f-4d0f-a2a7-b802a0a4dc3a"
      },
      "execution_count": 13,
      "outputs": [
        {
          "output_type": "stream",
          "name": "stdout",
          "text": [
            "(6824, 5)\n",
            "                                            sentence           term  from  \\\n",
            "0  This new version of Things has an entirely dif...    new version   6.0   \n",
            "3  The ease of use, simplicity, and great functio...  functionality  40.0   \n",
            "4  I’m disappointed that even after a year they h...          money  95.0   \n",
            "5                 It’s tagging capability is unique.        tagging   6.0   \n",
            "6  This free version also works with the PC and m...   free version   6.0   \n",
            "\n",
            "      to sentiment  \n",
            "0   17.0  positive  \n",
            "3   53.0  positive  \n",
            "4  100.0  negative  \n",
            "5   13.0  positive  \n",
            "6   18.0  positive  \n"
          ]
        }
      ]
    },
    {
      "cell_type": "markdown",
      "source": [
        "### STEP2 Create new txt file following the above format:\n",
        "1. Replace term with \\$T\\$ using the `from` and `to` indices.\n",
        "2. Add a new line containing the extracted term.\n",
        "3. Add a new line containing the corresponding sentiment."
      ],
      "metadata": {
        "id": "giFBXkRqsF8h"
      }
    },
    {
      "cell_type": "code",
      "source": [
        "with open('formatted_AWARE_comprehensive.txt', 'w', encoding='utf-8') as file:\n",
        "    for index, row in df_cleaned.iterrows():\n",
        "      sentence = row['sentence']\n",
        "      from_idx, to_idx = row['from'], row['to']\n",
        "      modified_sentence = sentence[:int(from_idx) - 1] + '$T$' + sentence[int(to_idx) - 1:]\n",
        "      sentiment = row['sentiment']\n",
        "      # Write the modified sentence, term, and sentiment to the file\n",
        "      file.write(modified_sentence + '\\n')\n",
        "      file.write(row['term'] + '\\n')\n",
        "      file.write(row['sentiment'].capitalize() + '\\n')  # Two newlines for separation\n",
        "\n",
        "print(\"File 'formatted_output.txt' created successfully.\")"
      ],
      "metadata": {
        "colab": {
          "base_uri": "https://localhost:8080/"
        },
        "id": "9ByeKwMRvM_h",
        "outputId": "955727d3-2856-4880-c3e3-7e6859529f8c"
      },
      "execution_count": 15,
      "outputs": [
        {
          "output_type": "stream",
          "name": "stdout",
          "text": [
            "File 'formatted_output.txt' created successfully.\n"
          ]
        }
      ]
    }
  ]
}